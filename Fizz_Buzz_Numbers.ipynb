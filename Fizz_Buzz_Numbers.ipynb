{
  "nbformat": 4,
  "nbformat_minor": 0,
  "metadata": {
    "colab": {
      "name": "Fizz_Buzz_Numbers.ipynb",
      "provenance": []
    },
    "kernelspec": {
      "name": "python3",
      "display_name": "Python 3"
    },
    "language_info": {
      "name": "python"
    }
  },
  "cells": [
    {
      "cell_type": "markdown",
      "metadata": {
        "id": "cemyvQJvzyRl"
      },
      "source": [
        "**Assignment-009/7 (Fizz Buzz Numbers)** \n",
        "Task : Print the Fizz Buzz numbers.\n",
        "\n",
        "Fizz Buzz is a famous code challenge used in interviews to test basic programming skills. It's time to write your own implementation. Print numbers from 1 to 100 inclusively following these instructions: if a number is multiple of 3, print \"Fizz\" instead of this number, if a number is multiple of 5, print \"Buzz\" instead of this number, for numbers that are multiples of both 3 and 5, print \"FizzBuzz\", print the rest of the numbers unchanged. Output each value on a separate line."
      ]
    },
    {
      "cell_type": "code",
      "metadata": {
        "colab": {
          "base_uri": "https://localhost:8080/"
        },
        "id": "JR6vhTVOoUwl",
        "outputId": "4fd002f7-1158-4944-f70b-cd1066dc66ea"
      },
      "source": [
        "numbers = range(1,101)\n",
        "FizzBuzzlist = []\n",
        "for i in numbers:\n",
        "  if i%3 != 0 and i%5!=0:\n",
        "    FizzBuzzlist.append(i)\n",
        "  elif i % 3 == 0 and i%5 != 0:\n",
        "    i = \"Fizz\"\n",
        "    FizzBuzzlist.append(i)\n",
        "  elif i%5==0 and i%3 != 0:\n",
        "    i= \"Buzz\"\n",
        "    FizzBuzzlist.append(i)\n",
        "  else:\n",
        "    i = \"FizzBuzz\"\n",
        "    FizzBuzzlist.append(i)\n",
        "print(FizzBuzzlist)"
      ],
      "execution_count": null,
      "outputs": [
        {
          "output_type": "stream",
          "text": [
            "[1, 2, 'Fizz', 4, 'Buzz', 'Fizz', 7, 8, 'Fizz', 'Buzz', 11, 'Fizz', 13, 14, 'FizzBuzz', 16, 17, 'Fizz', 19, 'Buzz', 'Fizz', 22, 23, 'Fizz', 'Buzz', 26, 'Fizz', 28, 29, 'FizzBuzz', 31, 32, 'Fizz', 34, 'Buzz', 'Fizz', 37, 38, 'Fizz', 'Buzz', 41, 'Fizz', 43, 44, 'FizzBuzz', 46, 47, 'Fizz', 49, 'Buzz', 'Fizz', 52, 53, 'Fizz', 'Buzz', 56, 'Fizz', 58, 59, 'FizzBuzz', 61, 62, 'Fizz', 64, 'Buzz', 'Fizz', 67, 68, 'Fizz', 'Buzz', 71, 'Fizz', 73, 74, 'FizzBuzz', 76, 77, 'Fizz', 79, 'Buzz', 'Fizz', 82, 83, 'Fizz', 'Buzz', 86, 'Fizz', 88, 89, 'FizzBuzz', 91, 92, 'Fizz', 94, 'Buzz', 'Fizz', 97, 98, 'Fizz', 'Buzz']\n"
          ],
          "name": "stdout"
        }
      ]
    }
  ]
}
