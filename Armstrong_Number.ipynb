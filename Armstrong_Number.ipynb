{
  "nbformat": 4,
  "nbformat_minor": 0,
  "metadata": {
    "colab": {
      "name": "Armstrong_Number.ipynb",
      "provenance": []
    },
    "kernelspec": {
      "name": "python3",
      "display_name": "Python 3"
    },
    "language_info": {
      "name": "python"
    }
  },
  "cells": [
    {
      "cell_type": "markdown",
      "metadata": {
        "id": "4uIlPf8X_DuY"
      },
      "source": [
        "**Assignment-009/3 (Is it an Armstrong Number?) **"
      ]
    },
    {
      "cell_type": "code",
      "metadata": {
        "colab": {
          "base_uri": "https://localhost:8080/"
        },
        "id": "eh4Cne8J5_Nx",
        "outputId": "cc5e608e-3fa4-41ba-a72f-2bc1dc9b082c"
      },
      "source": [
        "num = input(\"Please enter a positive integer number: \")   # We ask the user to enter a positive number\n",
        "if set(num) - set(\"0123456789\") != set(): # We are checking the number whether it is valid or not.If there are values other than positive integer numbers such as -,.,str etc code returns a warning message.\n",
        "  print (num, \"is an invalid entry. Don't use non-numeric, float, or negative values!\")\n",
        "x= [int(a) for a in num]    # We are converting the str input to int values and creating a list.\n",
        "n = len(x)  # We are counting the digits of the number.\n",
        "y = [(int(a)**n) for a in num]  # We are computing every digit by taking their powers by n\n",
        "if sum(y)== int(num): # We are checking if the sum of the powered digits are equal to the whole number. \n",
        "    print (int(num), \"is an Armstrong number.\") \n",
        "else:\n",
        "    print (num, \"is not an Armstrong number.\")\n"
      ],
      "execution_count": null,
      "outputs": [
        {
          "output_type": "stream",
          "text": [
            "Please enter a positive integer number: 115132219018763992565095597973971522401\n",
            "115132219018763992565095597973971522401 is an Armstrong number.\n"
          ],
          "name": "stdout"
        }
      ]
    }
  ]
}