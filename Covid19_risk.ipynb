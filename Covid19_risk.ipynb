{
  "nbformat": 4,
  "nbformat_minor": 0,
  "metadata": {
    "colab": {
      "name": "Covid19_risk.ipynb",
      "provenance": [],
      "collapsed_sections": []
    },
    "kernelspec": {
      "name": "python3",
      "display_name": "Python 3"
    },
    "language_info": {
      "name": "python"
    }
  },
  "cells": [
    {
      "cell_type": "code",
      "metadata": {
        "id": "UdVvFj3kdOMd"
      },
      "source": [
        "age = input(\"Are you a cigarette addict older than 75 years old? (True or False) \").title()\n",
        "chronic = input(\"Do you have a severe chronic disease? (True or False) \").title()\n",
        "immune = input (\"Is your immune system too weak? (True or False) \").title()\n",
        "if age == ('True') or chronic == ('True') or immune == ('True'):  \n",
        "  print (\"You are in risky group\")\n",
        "else:\n",
        "  print (\"You are not in risky group\")"
      ],
      "execution_count": null,
      "outputs": []
    }
  ]
}