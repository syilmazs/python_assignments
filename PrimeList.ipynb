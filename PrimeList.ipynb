{
  "nbformat": 4,
  "nbformat_minor": 0,
  "metadata": {
    "colab": {
      "name": "PrimeList.ipynb",
      "provenance": []
    },
    "kernelspec": {
      "name": "python3",
      "display_name": "Python 3"
    },
    "language_info": {
      "name": "python"
    }
  },
  "cells": [
    {
      "cell_type": "code",
      "metadata": {
        "id": "8J1F6YxYGlcj"
      },
      "source": [
        "n = int(input(\"Lütfen kaça kadar olan asal sayıları listelemek istediğinizi belirten bir tam sayı giriniz:\"))\n",
        "asal=[]\n",
        "for i in range(2,n+1):\n",
        "    prime = True\n",
        "    for j in range(2,i):\n",
        "        if (i%j==0):\n",
        "            prime = False\n",
        "    if prime:\n",
        "       asal.append(i)\n",
        "print (asal)"
      ],
      "execution_count": null,
      "outputs": []
    }
  ]
}
