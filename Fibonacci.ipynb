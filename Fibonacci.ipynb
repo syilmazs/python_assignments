{
  "nbformat": 4,
  "nbformat_minor": 0,
  "metadata": {
    "colab": {
      "name": "Fibonacci.ipynb",
      "provenance": [],
      "collapsed_sections": []
    },
    "kernelspec": {
      "name": "python3",
      "display_name": "Python 3"
    },
    "language_info": {
      "name": "python"
    }
  },
  "cells": [
    {
      "cell_type": "code",
      "metadata": {
        "colab": {
          "base_uri": "https://localhost:8080/"
        },
        "id": "skMZkAN3NgDN",
        "outputId": "a920e766-86d0-4020-f495-46ab15ef83d2"
      },
      "source": [
        "fibonacci =[1, 1]\n",
        "f = 1\n",
        "s = 1\n",
        "for i in range(2,56):\n",
        "  i=f+s\n",
        "  if i<=55:\n",
        "    fibonacci.append(i)\n",
        "    f=s\n",
        "    s=i\n",
        "  else:\n",
        "    break\n",
        "print (fibonacci)"
      ],
      "execution_count": null,
      "outputs": [
        {
          "output_type": "stream",
          "text": [
            "[1, 1, 2, 3, 5, 8, 13, 21, 34, 55]\n"
          ],
          "name": "stdout"
        }
      ]
    }
  ]
}
