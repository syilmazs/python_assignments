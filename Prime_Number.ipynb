{
  "nbformat": 4,
  "nbformat_minor": 0,
  "metadata": {
    "colab": {
      "name": "Prime_Number.ipynb",
      "provenance": []
    },
    "kernelspec": {
      "name": "python3",
      "display_name": "Python 3"
    },
    "language_info": {
      "name": "python"
    }
  },
  "cells": [
    {
      "cell_type": "code",
      "metadata": {
        "id": "aQNnebAQYeJm"
      },
      "source": [
        "sayi = int(input(\"Lütfen bir tam sayı giriniz: \"))\n",
        "if sayi > 1:\n",
        "  for i in range(2, sayi//2):\n",
        "    if sayi % i ==0:\n",
        "      print (sayi, \"is not a prime number.\")\n",
        "      break\n",
        "  else:\n",
        "    print(sayi, \"is a prime number.\")\n",
        "else:\n",
        "  print (sayi, \"is not a prime number.\")"
      ],
      "execution_count": null,
      "outputs": []
    }
  ]
}